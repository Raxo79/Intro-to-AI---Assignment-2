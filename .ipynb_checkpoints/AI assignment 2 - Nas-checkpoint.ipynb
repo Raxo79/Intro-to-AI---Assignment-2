{
 "cells": [
  {
   "cell_type": "code",
   "execution_count": 21,
   "metadata": {},
   "outputs": [],
   "source": [
    "import pandas as pd\n",
    "from sklearn import linear_model\n",
    "import matplotlib.pyplot as plt\n",
    "import numpy as np\n",
    "from datetime import datetime as dt"
   ]
  },
  {
   "cell_type": "code",
   "execution_count": 57,
   "metadata": {},
   "outputs": [
    {
     "data": {
      "text/html": [
       "<div>\n",
       "<style scoped>\n",
       "    .dataframe tbody tr th:only-of-type {\n",
       "        vertical-align: middle;\n",
       "    }\n",
       "\n",
       "    .dataframe tbody tr th {\n",
       "        vertical-align: top;\n",
       "    }\n",
       "\n",
       "    .dataframe thead th {\n",
       "        text-align: right;\n",
       "    }\n",
       "</style>\n",
       "<table border=\"1\" class=\"dataframe\">\n",
       "  <thead>\n",
       "    <tr style=\"text-align: right;\">\n",
       "      <th></th>\n",
       "      <th>Date</th>\n",
       "      <th>Open</th>\n",
       "      <th>High</th>\n",
       "      <th>Low</th>\n",
       "      <th>Close</th>\n",
       "      <th>Adj Close</th>\n",
       "      <th>Volume</th>\n",
       "    </tr>\n",
       "  </thead>\n",
       "  <tbody>\n",
       "    <tr>\n",
       "      <th>0</th>\n",
       "      <td>2003-12-18</td>\n",
       "      <td>19.482599</td>\n",
       "      <td>19.596901</td>\n",
       "      <td>19.025499</td>\n",
       "      <td>19.139799</td>\n",
       "      <td>19.139799</td>\n",
       "      <td>4978496.0</td>\n",
       "    </tr>\n",
       "    <tr>\n",
       "      <th>1</th>\n",
       "      <td>2003-12-19</td>\n",
       "      <td>19.368299</td>\n",
       "      <td>19.425501</td>\n",
       "      <td>18.282801</td>\n",
       "      <td>18.454201</td>\n",
       "      <td>18.454201</td>\n",
       "      <td>1410901.0</td>\n",
       "    </tr>\n",
       "    <tr>\n",
       "      <th>2</th>\n",
       "      <td>2003-12-22</td>\n",
       "      <td>18.739901</td>\n",
       "      <td>18.739901</td>\n",
       "      <td>17.997101</td>\n",
       "      <td>18.054300</td>\n",
       "      <td>18.054300</td>\n",
       "      <td>137047.0</td>\n",
       "    </tr>\n",
       "    <tr>\n",
       "      <th>3</th>\n",
       "      <td>2003-12-23</td>\n",
       "      <td>17.997101</td>\n",
       "      <td>17.997101</td>\n",
       "      <td>17.368700</td>\n",
       "      <td>17.425800</td>\n",
       "      <td>17.425800</td>\n",
       "      <td>229418.0</td>\n",
       "    </tr>\n",
       "    <tr>\n",
       "      <th>4</th>\n",
       "      <td>2003-12-24</td>\n",
       "      <td>NaN</td>\n",
       "      <td>NaN</td>\n",
       "      <td>NaN</td>\n",
       "      <td>NaN</td>\n",
       "      <td>NaN</td>\n",
       "      <td>NaN</td>\n",
       "    </tr>\n",
       "    <tr>\n",
       "      <th>...</th>\n",
       "      <td>...</td>\n",
       "      <td>...</td>\n",
       "      <td>...</td>\n",
       "      <td>...</td>\n",
       "      <td>...</td>\n",
       "      <td>...</td>\n",
       "      <td>...</td>\n",
       "    </tr>\n",
       "    <tr>\n",
       "      <th>4248</th>\n",
       "      <td>2020-10-12</td>\n",
       "      <td>0.709000</td>\n",
       "      <td>0.710000</td>\n",
       "      <td>0.650000</td>\n",
       "      <td>0.676800</td>\n",
       "      <td>0.676800</td>\n",
       "      <td>48320475.0</td>\n",
       "    </tr>\n",
       "    <tr>\n",
       "      <th>4249</th>\n",
       "      <td>2020-10-13</td>\n",
       "      <td>0.676800</td>\n",
       "      <td>0.676800</td>\n",
       "      <td>0.600000</td>\n",
       "      <td>0.600600</td>\n",
       "      <td>0.600600</td>\n",
       "      <td>47786200.0</td>\n",
       "    </tr>\n",
       "    <tr>\n",
       "      <th>4250</th>\n",
       "      <td>2020-10-14</td>\n",
       "      <td>0.601000</td>\n",
       "      <td>0.640000</td>\n",
       "      <td>0.596200</td>\n",
       "      <td>0.626000</td>\n",
       "      <td>0.626000</td>\n",
       "      <td>37534949.0</td>\n",
       "    </tr>\n",
       "    <tr>\n",
       "      <th>4251</th>\n",
       "      <td>2020-10-15</td>\n",
       "      <td>0.626000</td>\n",
       "      <td>0.626000</td>\n",
       "      <td>0.585000</td>\n",
       "      <td>0.605000</td>\n",
       "      <td>0.605000</td>\n",
       "      <td>26737615.0</td>\n",
       "    </tr>\n",
       "    <tr>\n",
       "      <th>4252</th>\n",
       "      <td>2020-10-16</td>\n",
       "      <td>0.605000</td>\n",
       "      <td>0.620000</td>\n",
       "      <td>0.601000</td>\n",
       "      <td>0.610600</td>\n",
       "      <td>0.610600</td>\n",
       "      <td>15754218.0</td>\n",
       "    </tr>\n",
       "  </tbody>\n",
       "</table>\n",
       "<p>4253 rows × 7 columns</p>\n",
       "</div>"
      ],
      "text/plain": [
       "            Date       Open       High        Low      Close  Adj Close  \\\n",
       "0     2003-12-18  19.482599  19.596901  19.025499  19.139799  19.139799   \n",
       "1     2003-12-19  19.368299  19.425501  18.282801  18.454201  18.454201   \n",
       "2     2003-12-22  18.739901  18.739901  17.997101  18.054300  18.054300   \n",
       "3     2003-12-23  17.997101  17.997101  17.368700  17.425800  17.425800   \n",
       "4     2003-12-24        NaN        NaN        NaN        NaN        NaN   \n",
       "...          ...        ...        ...        ...        ...        ...   \n",
       "4248  2020-10-12   0.709000   0.710000   0.650000   0.676800   0.676800   \n",
       "4249  2020-10-13   0.676800   0.676800   0.600000   0.600600   0.600600   \n",
       "4250  2020-10-14   0.601000   0.640000   0.596200   0.626000   0.626000   \n",
       "4251  2020-10-15   0.626000   0.626000   0.585000   0.605000   0.605000   \n",
       "4252  2020-10-16   0.605000   0.620000   0.601000   0.610600   0.610600   \n",
       "\n",
       "          Volume  \n",
       "0      4978496.0  \n",
       "1      1410901.0  \n",
       "2       137047.0  \n",
       "3       229418.0  \n",
       "4            NaN  \n",
       "...          ...  \n",
       "4248  48320475.0  \n",
       "4249  47786200.0  \n",
       "4250  37534949.0  \n",
       "4251  26737615.0  \n",
       "4252  15754218.0  \n",
       "\n",
       "[4253 rows x 7 columns]"
      ]
     },
     "execution_count": 57,
     "metadata": {},
     "output_type": "execute_result"
    }
   ],
   "source": [
    "#df.replace(0, np.nan, inplace=True) #Replacing 0 with NaN\n",
    "#df.replace(\"null\", np.nan, inplace=True) #Replacing 0 with NaN\n",
    "#df.fillna( method ='ffill', inplace = True) #Filling with data from next day\n",
    "df = pd.read_csv('NAS.csv')\n",
    "df"
   ]
  },
  {
   "cell_type": "code",
   "execution_count": 58,
   "metadata": {},
   "outputs": [],
   "source": [
    "df.replace(0, np.nan, inplace=True) #Replacing 0 with NaN\n",
    "df.dropna(inplace=True)  #Dropping all columns with NaN"
   ]
  },
  {
   "cell_type": "code",
   "execution_count": 59,
   "metadata": {},
   "outputs": [],
   "source": [
    "#df['Date'] = pd.to_datetime(df['Date'])\n",
    "#df['Date']=df['Date'].map(dt.datetime.toordinal)"
   ]
  },
  {
   "cell_type": "code",
   "execution_count": 60,
   "metadata": {},
   "outputs": [],
   "source": [
    "#input = df.drop('Date',axis = 'columns')\n",
    "#input = df.drop('Open',axis = 'columns')\n",
    "#input = df.drop('High',axis = 'columns')\n",
    "#input = df.drop('Low',axis = 'columns')"
   ]
  },
  {
   "cell_type": "code",
   "execution_count": 61,
   "metadata": {},
   "outputs": [
    {
     "data": {
      "text/html": [
       "<div>\n",
       "<style scoped>\n",
       "    .dataframe tbody tr th:only-of-type {\n",
       "        vertical-align: middle;\n",
       "    }\n",
       "\n",
       "    .dataframe tbody tr th {\n",
       "        vertical-align: top;\n",
       "    }\n",
       "\n",
       "    .dataframe thead th {\n",
       "        text-align: right;\n",
       "    }\n",
       "</style>\n",
       "<table border=\"1\" class=\"dataframe\">\n",
       "  <thead>\n",
       "    <tr style=\"text-align: right;\">\n",
       "      <th></th>\n",
       "      <th>Date</th>\n",
       "      <th>Open</th>\n",
       "      <th>High</th>\n",
       "      <th>Low</th>\n",
       "      <th>Close</th>\n",
       "      <th>Adj Close</th>\n",
       "      <th>Volume</th>\n",
       "    </tr>\n",
       "  </thead>\n",
       "  <tbody>\n",
       "    <tr>\n",
       "      <th>0</th>\n",
       "      <td>2003-12-18</td>\n",
       "      <td>19.482599</td>\n",
       "      <td>19.596901</td>\n",
       "      <td>19.025499</td>\n",
       "      <td>19.139799</td>\n",
       "      <td>19.139799</td>\n",
       "      <td>4978496.0</td>\n",
       "    </tr>\n",
       "    <tr>\n",
       "      <th>1</th>\n",
       "      <td>2003-12-19</td>\n",
       "      <td>19.368299</td>\n",
       "      <td>19.425501</td>\n",
       "      <td>18.282801</td>\n",
       "      <td>18.454201</td>\n",
       "      <td>18.454201</td>\n",
       "      <td>1410901.0</td>\n",
       "    </tr>\n",
       "    <tr>\n",
       "      <th>2</th>\n",
       "      <td>2003-12-22</td>\n",
       "      <td>18.739901</td>\n",
       "      <td>18.739901</td>\n",
       "      <td>17.997101</td>\n",
       "      <td>18.054300</td>\n",
       "      <td>18.054300</td>\n",
       "      <td>137047.0</td>\n",
       "    </tr>\n",
       "    <tr>\n",
       "      <th>3</th>\n",
       "      <td>2003-12-23</td>\n",
       "      <td>17.997101</td>\n",
       "      <td>17.997101</td>\n",
       "      <td>17.368700</td>\n",
       "      <td>17.425800</td>\n",
       "      <td>17.425800</td>\n",
       "      <td>229418.0</td>\n",
       "    </tr>\n",
       "    <tr>\n",
       "      <th>4</th>\n",
       "      <td>2003-12-29</td>\n",
       "      <td>17.425800</td>\n",
       "      <td>17.425800</td>\n",
       "      <td>16.854500</td>\n",
       "      <td>17.254400</td>\n",
       "      <td>17.254400</td>\n",
       "      <td>196206.0</td>\n",
       "    </tr>\n",
       "  </tbody>\n",
       "</table>\n",
       "</div>"
      ],
      "text/plain": [
       "         Date       Open       High        Low      Close  Adj Close  \\\n",
       "0  2003-12-18  19.482599  19.596901  19.025499  19.139799  19.139799   \n",
       "1  2003-12-19  19.368299  19.425501  18.282801  18.454201  18.454201   \n",
       "2  2003-12-22  18.739901  18.739901  17.997101  18.054300  18.054300   \n",
       "3  2003-12-23  17.997101  17.997101  17.368700  17.425800  17.425800   \n",
       "4  2003-12-29  17.425800  17.425800  16.854500  17.254400  17.254400   \n",
       "\n",
       "      Volume  \n",
       "0  4978496.0  \n",
       "1  1410901.0  \n",
       "2   137047.0  \n",
       "3   229418.0  \n",
       "4   196206.0  "
      ]
     },
     "execution_count": 61,
     "metadata": {},
     "output_type": "execute_result"
    }
   ],
   "source": [
    "df = df.reset_index(drop=True)\n",
    "df.head()"
   ]
  },
  {
   "cell_type": "code",
   "execution_count": 62,
   "metadata": {},
   "outputs": [
    {
     "data": {
      "text/plain": [
       "array([[                 0],\n",
       "       [    86400000000000],\n",
       "       [   345600000000000],\n",
       "       ...,\n",
       "       [530928000000000000],\n",
       "       [531014400000000000],\n",
       "       [531100800000000000]], dtype='timedelta64[ns]')"
      ]
     },
     "execution_count": 62,
     "metadata": {},
     "output_type": "execute_result"
    }
   ],
   "source": [
    "#input = pd.to_datetime(df.Date, format='%Y-%m-%d') #dt.strptime(df.Date, '%Y-%m-%d')\n",
    "#input.head(10)\n",
    "#date_float = df['Date'].astype(float)\n",
    "\n",
    "temp_date = pd.to_datetime(df.Date, format='%Y-%m-%d') #dt.strptime(df.Date, '%Y-%m-%d')\n",
    "temp_date_delta = temp_date - temp_date.min()\n",
    "temp_date_reshape = np.reshape([temp_date_delta],(-1,1))\n",
    "input = temp_date_reshape\n",
    "input"
   ]
  },
  {
   "cell_type": "code",
   "execution_count": 63,
   "metadata": {},
   "outputs": [
    {
     "data": {
      "text/plain": [
       "0       19.139799\n",
       "1       18.454201\n",
       "2       18.054300\n",
       "3       17.425800\n",
       "4       17.254400\n",
       "          ...    \n",
       "4199     0.676800\n",
       "4200     0.600600\n",
       "4201     0.626000\n",
       "4202     0.605000\n",
       "4203     0.610600\n",
       "Name: Close, Length: 4204, dtype: float64"
      ]
     },
     "execution_count": 63,
     "metadata": {},
     "output_type": "execute_result"
    }
   ],
   "source": [
    "stock_on_close = df.Close\n",
    "stock_on_close"
   ]
  },
  {
   "cell_type": "code",
   "execution_count": 64,
   "metadata": {},
   "outputs": [
    {
     "data": {
      "text/plain": [
       "LinearRegression()"
      ]
     },
     "execution_count": 64,
     "metadata": {},
     "output_type": "execute_result"
    }
   ],
   "source": [
    "regObj = linear_model.LinearRegression()\n",
    "regObj.fit(input, stock_on_close)"
   ]
  },
  {
   "cell_type": "code",
   "execution_count": 65,
   "metadata": {},
   "outputs": [
    {
     "data": {
      "text/plain": [
       "[<matplotlib.lines.Line2D at 0x25a9420f400>]"
      ]
     },
     "execution_count": 65,
     "metadata": {},
     "output_type": "execute_result"
    },
    {
     "data": {
      "image/png": "[encoded data removed]",
      "text/plain": [
       "<Figure size 432x288 with 1 Axes>"
      ]
     },
     "metadata": {
      "needs_background": "light"
     },
     "output_type": "display_data"
    }
   ],
   "source": [
    "temp_date_float = temp_date_reshape / pd.to_timedelta(1, unit='D')\n",
    "\n",
    "plt.xlabel('Date', fontsize = 16)\n",
    "plt.ylabel('Stock on close', fontsize = 16)\n",
    "\n",
    "plt.scatter(temp_date, df.Close, color = 'blue')\n",
    "plt.plot(temp_date, regObj.predict(temp_date_float), color = 'red')\n",
    "#plt.plot(stock_on_close, regObj.predict(input), color = 'red', casting = unsafe)"
   ]
  },
  {
   "cell_type": "code",
   "execution_count": 66,
   "metadata": {},
   "outputs": [
    {
     "data": {
      "text/plain": [
       "array([32.50191818])"
      ]
     },
     "execution_count": 66,
     "metadata": {},
     "output_type": "execute_result"
    }
   ],
   "source": [
    "regObj.predict([[2021-8-12]])"
   ]
  },
  {
   "cell_type": "code",
   "execution_count": 67,
   "metadata": {},
   "outputs": [
    {
     "data": {
      "text/plain": [
       "array([1.77519811e-16])"
      ]
     },
     "execution_count": 67,
     "metadata": {},
     "output_type": "execute_result"
    }
   ],
   "source": [
    "coefficient=regObj.coef_\n",
    "coefficient"
   ]
  },
  {
   "cell_type": "code",
   "execution_count": 68,
   "metadata": {},
   "outputs": [
    {
     "data": {
      "text/plain": [
       "32.501918183535395"
      ]
     },
     "execution_count": 68,
     "metadata": {},
     "output_type": "execute_result"
    }
   ],
   "source": [
    "intercept=regObj.intercept_\n",
    "intercept"
   ]
  },
  {
   "cell_type": "code",
   "execution_count": 69,
   "metadata": {},
   "outputs": [
    {
     "data": {
      "text/plain": [
       "array([32.50191818])"
      ]
     },
     "execution_count": 69,
     "metadata": {},
     "output_type": "execute_result"
    }
   ],
   "source": [
    "coefficient*(2021-8-12)+intercept"
   ]
  },
  {
   "cell_type": "code",
   "execution_count": 121,
   "metadata": {},
   "outputs": [],
   "source": [
    "x = temp_date_float\n",
    "y = df.Close"
   ]
  },
  {
   "cell_type": "code",
   "execution_count": 122,
   "metadata": {},
   "outputs": [],
   "source": [
    "logmodel = linear_model.LinearRegression()"
   ]
  },
  {
   "cell_type": "code",
   "execution_count": 123,
   "metadata": {},
   "outputs": [],
   "source": [
    "x_train, x_test, y_train, y_test = train_test_split(x, y, test_size=0.3, random_state=1)"
   ]
  },
  {
   "cell_type": "code",
   "execution_count": 124,
   "metadata": {},
   "outputs": [
    {
     "data": {
      "text/plain": [
       "LinearRegression()"
      ]
     },
     "execution_count": 124,
     "metadata": {},
     "output_type": "execute_result"
    }
   ],
   "source": [
    "logmodel.fit(x_train, y_train)"
   ]
  },
  {
   "cell_type": "code",
   "execution_count": 125,
   "metadata": {},
   "outputs": [
    {
     "data": {
      "text/plain": [
       "0.2240530869499473"
      ]
     },
     "execution_count": 125,
     "metadata": {},
     "output_type": "execute_result"
    }
   ],
   "source": [
    "from sklearn import metrics\n",
    "logmodel.score(x_test, y_test)"
   ]
  }
 ],
 "metadata": {
  "kernelspec": {
   "display_name": "Python 3",
   "language": "python",
   "name": "python3"
  },
  "language_info": {
   "codemirror_mode": {
    "name": "ipython",
    "version": 3
   },
   "file_extension": ".py",
   "mimetype": "text/x-python",
   "name": "python",
   "nbconvert_exporter": "python",
   "pygments_lexer": "ipython3",
   "version": "3.8.5"
  }
 },
 "nbformat": 4,
 "nbformat_minor": 4
}
